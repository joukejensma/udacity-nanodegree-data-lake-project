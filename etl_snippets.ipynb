{
 "cells": [
  {
   "cell_type": "code",
   "execution_count": 1,
   "metadata": {
    "editable": true
   },
   "outputs": [],
   "source": [
    "from pyspark.sql import SparkSession\n",
    "import pyspark.sql.functions as F\n",
    "\n",
    "from pyspark.sql.types import *\n",
    "\n",
    "import boto3\n",
    "import configparser\n",
    "import os"
   ]
  },
  {
   "cell_type": "code",
   "execution_count": 14,
   "metadata": {
    "editable": true
   },
   "outputs": [],
   "source": [
    "config = configparser.ConfigParser()\n",
    "config.read('dl.cfg')\n",
    "\n",
    "os.environ['AWS_ACCESS_KEY_ID']=config['AWS']['AWS_ACCESS_KEY_ID']\n",
    "os.environ['AWS_SECRET_ACCESS_KEY']=config['AWS']['AWS_SECRET_ACCESS_KEY']\n",
    "\n",
    "s3_target_bucket = \"s3://jjudacitydatalake\""
   ]
  },
  {
   "cell_type": "markdown",
   "metadata": {
    "editable": true
   },
   "source": [
    "# Create spark session"
   ]
  },
  {
   "cell_type": "code",
   "execution_count": 3,
   "metadata": {
    "editable": true
   },
   "outputs": [
    {
     "data": {
      "text/html": [
       "\n",
       "            <div>\n",
       "                <p><b>SparkSession - in-memory</b></p>\n",
       "                \n",
       "        <div>\n",
       "            <p><b>SparkContext</b></p>\n",
       "\n",
       "            <p><a href=\"http://54b4eb550328:4040\">Spark UI</a></p>\n",
       "\n",
       "            <dl>\n",
       "              <dt>Version</dt>\n",
       "                <dd><code>v2.4.3</code></dd>\n",
       "              <dt>Master</dt>\n",
       "                <dd><code>local[*]</code></dd>\n",
       "              <dt>AppName</dt>\n",
       "                <dd><code>pyspark-shell</code></dd>\n",
       "            </dl>\n",
       "        </div>\n",
       "        \n",
       "            </div>\n",
       "        "
      ],
      "text/plain": [
       "<pyspark.sql.session.SparkSession at 0x7ff3798697f0>"
      ]
     },
     "execution_count": 3,
     "metadata": {},
     "output_type": "execute_result"
    }
   ],
   "source": [
    "spark = SparkSession \\\n",
    "    .builder \\\n",
    "    .config(\"spark.jars.packages\", \"org.apache.hadoop:hadoop-aws:2.7.0\") \\\n",
    "    .getOrCreate()\n",
    "\n",
    "spark"
   ]
  },
  {
   "cell_type": "markdown",
   "metadata": {
    "editable": true
   },
   "source": [
    "# Set up configuration"
   ]
  },
  {
   "cell_type": "code",
   "execution_count": 4,
   "metadata": {
    "editable": true
   },
   "outputs": [],
   "source": [
    "# location of log data files (later to be replaced with s3 folder path)\n",
    "log_data_path = './data/log_data'\n",
    "\n",
    "# location of song data files (later to be replaced with s3 folder path, small subset)\n",
    "song_data_path = './data/song_data/*/*/*/*.json'"
   ]
  },
  {
   "cell_type": "markdown",
   "metadata": {
    "editable": true
   },
   "source": [
    "# Reading data"
   ]
  },
  {
   "cell_type": "code",
   "execution_count": 5,
   "metadata": {
    "editable": true
   },
   "outputs": [
    {
     "data": {
      "text/html": [
       "<div>\n",
       "<style scoped>\n",
       "    .dataframe tbody tr th:only-of-type {\n",
       "        vertical-align: middle;\n",
       "    }\n",
       "\n",
       "    .dataframe tbody tr th {\n",
       "        vertical-align: top;\n",
       "    }\n",
       "\n",
       "    .dataframe thead th {\n",
       "        text-align: right;\n",
       "    }\n",
       "</style>\n",
       "<table border=\"1\" class=\"dataframe\">\n",
       "  <thead>\n",
       "    <tr style=\"text-align: right;\">\n",
       "      <th></th>\n",
       "      <th>artist</th>\n",
       "      <th>auth</th>\n",
       "      <th>firstName</th>\n",
       "      <th>gender</th>\n",
       "      <th>itemInSession</th>\n",
       "      <th>lastName</th>\n",
       "      <th>length</th>\n",
       "      <th>level</th>\n",
       "      <th>location</th>\n",
       "      <th>method</th>\n",
       "      <th>page</th>\n",
       "      <th>registration</th>\n",
       "      <th>sessionId</th>\n",
       "      <th>song</th>\n",
       "      <th>status</th>\n",
       "      <th>ts</th>\n",
       "      <th>userAgent</th>\n",
       "      <th>userId</th>\n",
       "    </tr>\n",
       "  </thead>\n",
       "  <tbody>\n",
       "    <tr>\n",
       "      <th>0</th>\n",
       "      <td>Harmonia</td>\n",
       "      <td>Logged In</td>\n",
       "      <td>Ryan</td>\n",
       "      <td>M</td>\n",
       "      <td>0</td>\n",
       "      <td>Smith</td>\n",
       "      <td>655.77751</td>\n",
       "      <td>free</td>\n",
       "      <td>San Jose-Sunnyvale-Santa Clara, CA</td>\n",
       "      <td>PUT</td>\n",
       "      <td>NextSong</td>\n",
       "      <td>1.541017e+12</td>\n",
       "      <td>583</td>\n",
       "      <td>Sehr kosmisch</td>\n",
       "      <td>200</td>\n",
       "      <td>1542241826796</td>\n",
       "      <td>\"Mozilla/5.0 (X11; Linux x86_64) AppleWebKit/5...</td>\n",
       "      <td>26</td>\n",
       "    </tr>\n",
       "    <tr>\n",
       "      <th>1</th>\n",
       "      <td>The Prodigy</td>\n",
       "      <td>Logged In</td>\n",
       "      <td>Ryan</td>\n",
       "      <td>M</td>\n",
       "      <td>1</td>\n",
       "      <td>Smith</td>\n",
       "      <td>260.07465</td>\n",
       "      <td>free</td>\n",
       "      <td>San Jose-Sunnyvale-Santa Clara, CA</td>\n",
       "      <td>PUT</td>\n",
       "      <td>NextSong</td>\n",
       "      <td>1.541017e+12</td>\n",
       "      <td>583</td>\n",
       "      <td>The Big Gundown</td>\n",
       "      <td>200</td>\n",
       "      <td>1542242481796</td>\n",
       "      <td>\"Mozilla/5.0 (X11; Linux x86_64) AppleWebKit/5...</td>\n",
       "      <td>26</td>\n",
       "    </tr>\n",
       "    <tr>\n",
       "      <th>2</th>\n",
       "      <td>Train</td>\n",
       "      <td>Logged In</td>\n",
       "      <td>Ryan</td>\n",
       "      <td>M</td>\n",
       "      <td>2</td>\n",
       "      <td>Smith</td>\n",
       "      <td>205.45261</td>\n",
       "      <td>free</td>\n",
       "      <td>San Jose-Sunnyvale-Santa Clara, CA</td>\n",
       "      <td>PUT</td>\n",
       "      <td>NextSong</td>\n",
       "      <td>1.541017e+12</td>\n",
       "      <td>583</td>\n",
       "      <td>Marry Me</td>\n",
       "      <td>200</td>\n",
       "      <td>1542242741796</td>\n",
       "      <td>\"Mozilla/5.0 (X11; Linux x86_64) AppleWebKit/5...</td>\n",
       "      <td>26</td>\n",
       "    </tr>\n",
       "    <tr>\n",
       "      <th>3</th>\n",
       "      <td>None</td>\n",
       "      <td>Logged In</td>\n",
       "      <td>Wyatt</td>\n",
       "      <td>M</td>\n",
       "      <td>0</td>\n",
       "      <td>Scott</td>\n",
       "      <td>NaN</td>\n",
       "      <td>free</td>\n",
       "      <td>Eureka-Arcata-Fortuna, CA</td>\n",
       "      <td>GET</td>\n",
       "      <td>Home</td>\n",
       "      <td>1.540872e+12</td>\n",
       "      <td>563</td>\n",
       "      <td>None</td>\n",
       "      <td>200</td>\n",
       "      <td>1542247071796</td>\n",
       "      <td>Mozilla/5.0 (Windows NT 6.1; WOW64; Trident/7....</td>\n",
       "      <td>9</td>\n",
       "    </tr>\n",
       "    <tr>\n",
       "      <th>4</th>\n",
       "      <td>None</td>\n",
       "      <td>Logged In</td>\n",
       "      <td>Austin</td>\n",
       "      <td>M</td>\n",
       "      <td>0</td>\n",
       "      <td>Rosales</td>\n",
       "      <td>NaN</td>\n",
       "      <td>free</td>\n",
       "      <td>New York-Newark-Jersey City, NY-NJ-PA</td>\n",
       "      <td>GET</td>\n",
       "      <td>Home</td>\n",
       "      <td>1.541060e+12</td>\n",
       "      <td>521</td>\n",
       "      <td>None</td>\n",
       "      <td>200</td>\n",
       "      <td>1542252577796</td>\n",
       "      <td>Mozilla/5.0 (Windows NT 6.1; rv:31.0) Gecko/20...</td>\n",
       "      <td>12</td>\n",
       "    </tr>\n",
       "  </tbody>\n",
       "</table>\n",
       "</div>"
      ],
      "text/plain": [
       "        artist       auth firstName gender  itemInSession lastName     length  \\\n",
       "0     Harmonia  Logged In      Ryan      M              0    Smith  655.77751   \n",
       "1  The Prodigy  Logged In      Ryan      M              1    Smith  260.07465   \n",
       "2        Train  Logged In      Ryan      M              2    Smith  205.45261   \n",
       "3         None  Logged In     Wyatt      M              0    Scott        NaN   \n",
       "4         None  Logged In    Austin      M              0  Rosales        NaN   \n",
       "\n",
       "  level                               location method      page  registration  \\\n",
       "0  free     San Jose-Sunnyvale-Santa Clara, CA    PUT  NextSong  1.541017e+12   \n",
       "1  free     San Jose-Sunnyvale-Santa Clara, CA    PUT  NextSong  1.541017e+12   \n",
       "2  free     San Jose-Sunnyvale-Santa Clara, CA    PUT  NextSong  1.541017e+12   \n",
       "3  free              Eureka-Arcata-Fortuna, CA    GET      Home  1.540872e+12   \n",
       "4  free  New York-Newark-Jersey City, NY-NJ-PA    GET      Home  1.541060e+12   \n",
       "\n",
       "   sessionId             song  status             ts  \\\n",
       "0        583    Sehr kosmisch     200  1542241826796   \n",
       "1        583  The Big Gundown     200  1542242481796   \n",
       "2        583         Marry Me     200  1542242741796   \n",
       "3        563             None     200  1542247071796   \n",
       "4        521             None     200  1542252577796   \n",
       "\n",
       "                                           userAgent userId  \n",
       "0  \"Mozilla/5.0 (X11; Linux x86_64) AppleWebKit/5...     26  \n",
       "1  \"Mozilla/5.0 (X11; Linux x86_64) AppleWebKit/5...     26  \n",
       "2  \"Mozilla/5.0 (X11; Linux x86_64) AppleWebKit/5...     26  \n",
       "3  Mozilla/5.0 (Windows NT 6.1; WOW64; Trident/7....      9  \n",
       "4  Mozilla/5.0 (Windows NT 6.1; rv:31.0) Gecko/20...     12  "
      ]
     },
     "execution_count": 5,
     "metadata": {},
     "output_type": "execute_result"
    }
   ],
   "source": [
    "log_data = spark.read.json(log_data_path)\n",
    "\n",
    "log_data.limit(5).toPandas()"
   ]
  },
  {
   "cell_type": "markdown",
   "metadata": {
    "editable": true
   },
   "source": [
    "# Examine schema\n",
    "## I prefer to specify the schema explicitly as to avoid any errors when loading"
   ]
  },
  {
   "cell_type": "code",
   "execution_count": 6,
   "metadata": {
    "editable": true
   },
   "outputs": [
    {
     "name": "stdout",
     "output_type": "stream",
     "text": [
      "root\n",
      " |-- artist: string (nullable = true)\n",
      " |-- auth: string (nullable = true)\n",
      " |-- firstName: string (nullable = true)\n",
      " |-- gender: string (nullable = true)\n",
      " |-- itemInSession: long (nullable = true)\n",
      " |-- lastName: string (nullable = true)\n",
      " |-- length: double (nullable = true)\n",
      " |-- level: string (nullable = true)\n",
      " |-- location: string (nullable = true)\n",
      " |-- method: string (nullable = true)\n",
      " |-- page: string (nullable = true)\n",
      " |-- registration: double (nullable = true)\n",
      " |-- sessionId: long (nullable = true)\n",
      " |-- song: string (nullable = true)\n",
      " |-- status: long (nullable = true)\n",
      " |-- ts: long (nullable = true)\n",
      " |-- userAgent: string (nullable = true)\n",
      " |-- userId: string (nullable = true)\n",
      "\n"
     ]
    }
   ],
   "source": [
    "log_data.printSchema()"
   ]
  },
  {
   "cell_type": "code",
   "execution_count": 7,
   "metadata": {
    "editable": true
   },
   "outputs": [
    {
     "name": "stdout",
     "output_type": "stream",
     "text": [
      "        artist       auth firstName gender  itemInSession lastName     length  \\\n",
      "0     Harmonia  Logged In      Ryan      M              0    Smith  655.77751   \n",
      "1  The Prodigy  Logged In      Ryan      M              1    Smith  260.07465   \n",
      "2        Train  Logged In      Ryan      M              2    Smith  205.45261   \n",
      "3         None  Logged In     Wyatt      M              0    Scott        NaN   \n",
      "4         None  Logged In    Austin      M              0  Rosales        NaN   \n",
      "\n",
      "  level                               location method      page  registration  \\\n",
      "0  free     San Jose-Sunnyvale-Santa Clara, CA    PUT  NextSong  1.541017e+12   \n",
      "1  free     San Jose-Sunnyvale-Santa Clara, CA    PUT  NextSong  1.541017e+12   \n",
      "2  free     San Jose-Sunnyvale-Santa Clara, CA    PUT  NextSong  1.541017e+12   \n",
      "3  free              Eureka-Arcata-Fortuna, CA    GET      Home  1.540872e+12   \n",
      "4  free  New York-Newark-Jersey City, NY-NJ-PA    GET      Home  1.541060e+12   \n",
      "\n",
      "   sessionId             song  status                      ts  \\\n",
      "0        583    Sehr kosmisch     200 2018-11-15 00:30:26.796   \n",
      "1        583  The Big Gundown     200 2018-11-15 00:41:21.796   \n",
      "2        583         Marry Me     200 2018-11-15 00:45:41.796   \n",
      "3        563             None     200 2018-11-15 01:57:51.796   \n",
      "4        521             None     200 2018-11-15 03:29:37.796   \n",
      "\n",
      "                                           userAgent userId  \n",
      "0  \"Mozilla/5.0 (X11; Linux x86_64) AppleWebKit/5...     26  \n",
      "1  \"Mozilla/5.0 (X11; Linux x86_64) AppleWebKit/5...     26  \n",
      "2  \"Mozilla/5.0 (X11; Linux x86_64) AppleWebKit/5...     26  \n",
      "3  Mozilla/5.0 (Windows NT 6.1; WOW64; Trident/7....      9  \n",
      "4  Mozilla/5.0 (Windows NT 6.1; rv:31.0) Gecko/20...     12  \n",
      "root\n",
      " |-- artist: string (nullable = true)\n",
      " |-- auth: string (nullable = true)\n",
      " |-- firstName: string (nullable = true)\n",
      " |-- gender: string (nullable = true)\n",
      " |-- itemInSession: long (nullable = true)\n",
      " |-- lastName: string (nullable = true)\n",
      " |-- length: double (nullable = true)\n",
      " |-- level: string (nullable = true)\n",
      " |-- location: string (nullable = true)\n",
      " |-- method: string (nullable = true)\n",
      " |-- page: string (nullable = true)\n",
      " |-- registration: double (nullable = true)\n",
      " |-- sessionId: long (nullable = true)\n",
      " |-- song: string (nullable = true)\n",
      " |-- status: long (nullable = true)\n",
      " |-- ts: timestamp (nullable = true)\n",
      " |-- userAgent: string (nullable = true)\n",
      " |-- userId: string (nullable = true)\n",
      "\n",
      "None\n"
     ]
    }
   ],
   "source": [
    "# copy data types from automatically inferred schema but modify some fields\n",
    "log_data_schema = StructType([\n",
    "    StructField(\"artist\", StringType()),\n",
    "    StructField(\"auth\", StringType()),\n",
    "    StructField(\"firstName\", StringType()),\n",
    "    StructField(\"gender\", StringType()),\n",
    "    StructField(\"itemInSession\", LongType()),\n",
    "    StructField(\"lastName\", StringType()),\n",
    "    StructField(\"length\", DoubleType()),\n",
    "    StructField(\"level\", StringType()),\n",
    "    StructField(\"location\", StringType()),\n",
    "    StructField(\"method\", StringType()),\n",
    "    StructField(\"page\", StringType()),\n",
    "    StructField(\"registration\", DoubleType()),\n",
    "    StructField(\"sessionId\", LongType()),\n",
    "    StructField(\"song\", StringType()),\n",
    "    StructField(\"status\", LongType()),\n",
    "    StructField(\"ts\", LongType()),\n",
    "    StructField(\"userAgent\", StringType()),\n",
    "    StructField(\"userId\", StringType()),\n",
    "])\n",
    "\n",
    "# and reload data\n",
    "log_data = spark.read\\\n",
    "    .schema(log_data_schema)\\\n",
    "    .option('mode', 'DROPMALFORMED')\\\n",
    "    .json(log_data_path)\\\n",
    "    .withColumn(\"ts\", F.to_timestamp(F.col(\"ts\") / 1000.)) # convert milliseconds to seconds and then convert to timestamp\n",
    "    \n",
    "print(log_data.limit(5).toPandas())\n",
    "\n",
    "print(log_data.printSchema())\n",
    "\n",
    "# there's some entries that have userId = \"\" causing the type to be string\n",
    "# log_data.select(\"userId\").dropDuplicates().sort(\"userId\").show(5)"
   ]
  },
  {
   "cell_type": "code",
   "execution_count": 8,
   "metadata": {
    "editable": true
   },
   "outputs": [
    {
     "name": "stdout",
     "output_type": "stream",
     "text": [
      "            artist_id  artist_latitude    artist_location  artist_longitude  \\\n",
      "0  ARDR4AC1187FB371A1              NaN                                  NaN   \n",
      "1  AREBBGV1187FB523D2              NaN        Houston, TX               NaN   \n",
      "2  ARMAC4T1187FB3FA4C         40.82624  Morris Plains, NJ         -74.47995   \n",
      "3  ARPBNLO1187FB3D52F         40.71455       New York, NY         -74.00712   \n",
      "4  ARDNS031187B9924F0         32.67828            Georgia         -83.22295   \n",
      "\n",
      "                                         artist_name   duration  num_songs  \\\n",
      "0  Montserrat Caballé;Placido Domingo;Vicente Sar...  511.16363          1   \n",
      "1       Mike Jones (Featuring CJ_ Mello & Lil' Bran)  173.66159          1   \n",
      "2                          The Dillinger Escape Plan  207.77751          1   \n",
      "3                                           Tiny Tim   43.36281          1   \n",
      "4                                         Tim Wilson  186.48771          1   \n",
      "\n",
      "              song_id                                              title  year  \n",
      "0  SOBAYLL12A8C138AF9                    Sono andati? Fingevo di dormire     0  \n",
      "1  SOOLYAZ12A6701F4A6                    Laws Patrolling (Album Version)     0  \n",
      "2  SOBBUGU12A8C13E95D                    Setting Fire to Sleeping Giants  2004  \n",
      "3  SOAOIBZ12AB01815BE  I Hold Your Hand In Mine [Live At Royal Albert...  2000  \n",
      "4  SONYPOM12A8C13B2D7  I Think My Wife Is Running Around On Me (Taco ...  2005  \n",
      "root\n",
      " |-- artist_id: string (nullable = true)\n",
      " |-- artist_latitude: double (nullable = true)\n",
      " |-- artist_location: string (nullable = true)\n",
      " |-- artist_longitude: double (nullable = true)\n",
      " |-- artist_name: string (nullable = true)\n",
      " |-- duration: double (nullable = true)\n",
      " |-- num_songs: long (nullable = true)\n",
      " |-- song_id: string (nullable = true)\n",
      " |-- title: string (nullable = true)\n",
      " |-- year: long (nullable = true)\n",
      "\n"
     ]
    }
   ],
   "source": [
    "song_data = spark.read.json(song_data_path)\n",
    "print(song_data.limit(5).toPandas())\n",
    "\n",
    "song_data.printSchema()\n",
    "\n"
   ]
  },
  {
   "cell_type": "code",
   "execution_count": 9,
   "metadata": {
    "editable": true
   },
   "outputs": [
    {
     "data": {
      "text/html": [
       "<div>\n",
       "<style scoped>\n",
       "    .dataframe tbody tr th:only-of-type {\n",
       "        vertical-align: middle;\n",
       "    }\n",
       "\n",
       "    .dataframe tbody tr th {\n",
       "        vertical-align: top;\n",
       "    }\n",
       "\n",
       "    .dataframe thead th {\n",
       "        text-align: right;\n",
       "    }\n",
       "</style>\n",
       "<table border=\"1\" class=\"dataframe\">\n",
       "  <thead>\n",
       "    <tr style=\"text-align: right;\">\n",
       "      <th></th>\n",
       "      <th>artist_id</th>\n",
       "      <th>artist_latitude</th>\n",
       "      <th>artist_location</th>\n",
       "      <th>artist_longitude</th>\n",
       "      <th>artist_name</th>\n",
       "      <th>duration</th>\n",
       "      <th>num_songs</th>\n",
       "      <th>song_id</th>\n",
       "      <th>title</th>\n",
       "      <th>year</th>\n",
       "    </tr>\n",
       "  </thead>\n",
       "  <tbody>\n",
       "    <tr>\n",
       "      <th>0</th>\n",
       "      <td>ARDR4AC1187FB371A1</td>\n",
       "      <td>NaN</td>\n",
       "      <td></td>\n",
       "      <td>NaN</td>\n",
       "      <td>Montserrat Caballé;Placido Domingo;Vicente Sar...</td>\n",
       "      <td>511.16363</td>\n",
       "      <td>1</td>\n",
       "      <td>SOBAYLL12A8C138AF9</td>\n",
       "      <td>Sono andati? Fingevo di dormire</td>\n",
       "      <td>0</td>\n",
       "    </tr>\n",
       "    <tr>\n",
       "      <th>1</th>\n",
       "      <td>AREBBGV1187FB523D2</td>\n",
       "      <td>NaN</td>\n",
       "      <td>Houston, TX</td>\n",
       "      <td>NaN</td>\n",
       "      <td>Mike Jones (Featuring CJ_ Mello &amp; Lil' Bran)</td>\n",
       "      <td>173.66159</td>\n",
       "      <td>1</td>\n",
       "      <td>SOOLYAZ12A6701F4A6</td>\n",
       "      <td>Laws Patrolling (Album Version)</td>\n",
       "      <td>0</td>\n",
       "    </tr>\n",
       "    <tr>\n",
       "      <th>2</th>\n",
       "      <td>ARMAC4T1187FB3FA4C</td>\n",
       "      <td>40.82624</td>\n",
       "      <td>Morris Plains, NJ</td>\n",
       "      <td>-74.47995</td>\n",
       "      <td>The Dillinger Escape Plan</td>\n",
       "      <td>207.77751</td>\n",
       "      <td>1</td>\n",
       "      <td>SOBBUGU12A8C13E95D</td>\n",
       "      <td>Setting Fire to Sleeping Giants</td>\n",
       "      <td>2004</td>\n",
       "    </tr>\n",
       "    <tr>\n",
       "      <th>3</th>\n",
       "      <td>ARPBNLO1187FB3D52F</td>\n",
       "      <td>40.71455</td>\n",
       "      <td>New York, NY</td>\n",
       "      <td>-74.00712</td>\n",
       "      <td>Tiny Tim</td>\n",
       "      <td>43.36281</td>\n",
       "      <td>1</td>\n",
       "      <td>SOAOIBZ12AB01815BE</td>\n",
       "      <td>I Hold Your Hand In Mine [Live At Royal Albert...</td>\n",
       "      <td>2000</td>\n",
       "    </tr>\n",
       "    <tr>\n",
       "      <th>4</th>\n",
       "      <td>ARDNS031187B9924F0</td>\n",
       "      <td>32.67828</td>\n",
       "      <td>Georgia</td>\n",
       "      <td>-83.22295</td>\n",
       "      <td>Tim Wilson</td>\n",
       "      <td>186.48771</td>\n",
       "      <td>1</td>\n",
       "      <td>SONYPOM12A8C13B2D7</td>\n",
       "      <td>I Think My Wife Is Running Around On Me (Taco ...</td>\n",
       "      <td>2005</td>\n",
       "    </tr>\n",
       "  </tbody>\n",
       "</table>\n",
       "</div>"
      ],
      "text/plain": [
       "            artist_id  artist_latitude    artist_location  artist_longitude  \\\n",
       "0  ARDR4AC1187FB371A1              NaN                                  NaN   \n",
       "1  AREBBGV1187FB523D2              NaN        Houston, TX               NaN   \n",
       "2  ARMAC4T1187FB3FA4C         40.82624  Morris Plains, NJ         -74.47995   \n",
       "3  ARPBNLO1187FB3D52F         40.71455       New York, NY         -74.00712   \n",
       "4  ARDNS031187B9924F0         32.67828            Georgia         -83.22295   \n",
       "\n",
       "                                         artist_name   duration  num_songs  \\\n",
       "0  Montserrat Caballé;Placido Domingo;Vicente Sar...  511.16363          1   \n",
       "1       Mike Jones (Featuring CJ_ Mello & Lil' Bran)  173.66159          1   \n",
       "2                          The Dillinger Escape Plan  207.77751          1   \n",
       "3                                           Tiny Tim   43.36281          1   \n",
       "4                                         Tim Wilson  186.48771          1   \n",
       "\n",
       "              song_id                                              title  year  \n",
       "0  SOBAYLL12A8C138AF9                    Sono andati? Fingevo di dormire     0  \n",
       "1  SOOLYAZ12A6701F4A6                    Laws Patrolling (Album Version)     0  \n",
       "2  SOBBUGU12A8C13E95D                    Setting Fire to Sleeping Giants  2004  \n",
       "3  SOAOIBZ12AB01815BE  I Hold Your Hand In Mine [Live At Royal Albert...  2000  \n",
       "4  SONYPOM12A8C13B2D7  I Think My Wife Is Running Around On Me (Taco ...  2005  "
      ]
     },
     "execution_count": 9,
     "metadata": {},
     "output_type": "execute_result"
    }
   ],
   "source": [
    "song_data_schema = StructType([\n",
    "    StructField(\"artist_id\", StringType()),\n",
    "    StructField(\"artist_latitude\", DoubleType()),\n",
    "    StructField(\"artist_location\", StringType()),\n",
    "    StructField(\"artist_longitude\", DoubleType()),\n",
    "    StructField(\"artist_name\", StringType()),\n",
    "    StructField(\"duration\", DoubleType()),\n",
    "    StructField(\"num_songs\", LongType()),\n",
    "    StructField(\"song_id\", StringType()),\n",
    "    StructField(\"title\", StringType()),\n",
    "    StructField(\"year\", LongType()),\n",
    "])\n",
    "\n",
    "# re-read with explicitly specified schema\n",
    "song_data = spark.read \\\n",
    "    .schema(song_data_schema) \\\n",
    "    .option('mode', 'DROPMALFORMED') \\\n",
    "    .json(song_data_path)\n",
    "\n",
    "song_data.limit(5).toPandas()"
   ]
  },
  {
   "cell_type": "markdown",
   "metadata": {
    "editable": true
   },
   "source": [
    "# Writing queries\n",
    "\n",
    "We need to create the following:\n",
    "\n",
    "Fact Table\n",
    "\n",
    "    songplays - records in log data associated with song plays i.e. records with page NextSong\n",
    "        songplay_id, start_time, user_id, level, song_id, artist_id, session_id, location, user_agent\n",
    "\n",
    "Dimension Tables\n",
    "\n",
    "    users - users in the app\n",
    "        user_id, first_name, last_name, gender, level\n",
    "    songs - songs in music database\n",
    "        song_id, title, artist_id, year, duration\n",
    "    artists - artists in music database\n",
    "        artist_id, name, location, lattitude, longitude\n",
    "    time - timestamps of records in songplays broken down into specific units\n",
    "        start_time, hour, day, week, month, year, weekday"
   ]
  },
  {
   "cell_type": "code",
   "execution_count": 10,
   "metadata": {
    "editable": true
   },
   "outputs": [
    {
     "name": "stdout",
     "output_type": "stream",
     "text": [
      "+--------------------+----+---+----+-----+----+-------+\n",
      "|          start_time|hour|day|week|month|year|weekday|\n",
      "+--------------------+----+---+----+-----+----+-------+\n",
      "|2018-11-15 16:12:...|  16|  5|  46|   11|2018|      1|\n",
      "|2018-11-21 06:18:...|   6|  4|  47|   11|2018|      1|\n",
      "|2018-11-21 18:49:...|  18|  4|  47|   11|2018|      1|\n",
      "|2018-11-14 15:20:...|  15|  4|  46|   11|2018|      1|\n",
      "|2018-11-05 16:31:...|  16|  2|  45|   11|2018|      1|\n",
      "+--------------------+----+---+----+-----+----+-------+\n",
      "only showing top 5 rows\n",
      "\n"
     ]
    }
   ],
   "source": [
    "time = log_data.select(F.col(\"ts\").alias(\"start_time\"))\\\n",
    "        .distinct()\\\n",
    "        .withColumn(\"hour\", F.hour(\"start_time\"))\\\n",
    "        .withColumn(\"day\", F.dayofweek(\"start_time\"))\\\n",
    "        .withColumn(\"week\", F.weekofyear(\"start_time\"))\\\n",
    "        .withColumn(\"month\", F.month(\"start_time\"))\\\n",
    "        .withColumn(\"year\", F.year(\"start_time\"))\\\n",
    "        .withColumn(\"weekday\", F.udf(lambda x: 0 if x in [7, 1] else 1, LongType())(F.col(\"day\")))\n",
    "\n",
    "time.show(5)\n",
    "\n",
    "time.write.mode(\"overwrite\").save('./data/time_table.parquet')"
   ]
  },
  {
   "cell_type": "code",
   "execution_count": 11,
   "metadata": {
    "editable": true
   },
   "outputs": [
    {
     "name": "stdout",
     "output_type": "stream",
     "text": [
      "+------------------+--------------------+--------------------+--------+---------+\n",
      "|         artist_id|                name|            location|latitude|longitude|\n",
      "+------------------+--------------------+--------------------+--------+---------+\n",
      "|AR9AWNF1187B9AB0B4|Kenny G featuring...|Seattle, Washingt...|    null|     null|\n",
      "|AR0IAWL1187B9A96D0|        Danilo Perez|              Panama|  8.4177|-80.11278|\n",
      "|AR0RCMP1187FB3F427|    Billie Jo Spears|        Beaumont, TX|30.08615|-94.10158|\n",
      "|AREDL271187FB40F44|        Soul Mekanik|                    |    null|     null|\n",
      "|ARI3BMM1187FB4255E|        Alice Stuart|          Washington| 38.8991|  -77.029|\n",
      "+------------------+--------------------+--------------------+--------+---------+\n",
      "only showing top 5 rows\n",
      "\n"
     ]
    }
   ],
   "source": [
    "artists = song_data.select('artist_id',\\\n",
    "                           F.col('artist_name').alias(\"name\"),\\\n",
    "                           F.col('artist_location').alias(\"location\"),\\\n",
    "                           F.col('artist_latitude').alias('latitude'),\\\n",
    "                           F.col('artist_longitude').alias('longitude'))\\\n",
    "                    .drop_duplicates(subset = ['artist_id'])\\\n",
    "\n",
    "artists.show(5)\n",
    "\n",
    "artists.write.mode(\"overwrite\").save('./data/artists_table.parquet')"
   ]
  },
  {
   "cell_type": "code",
   "execution_count": 12,
   "metadata": {
    "editable": true
   },
   "outputs": [
    {
     "name": "stdout",
     "output_type": "stream",
     "text": [
      "+------------------+--------------------+------------------+----+---------+\n",
      "|           song_id|               title|         artist_id|year| duration|\n",
      "+------------------+--------------------+------------------+----+---------+\n",
      "|SOGOSOV12AF72A285E|   ¿Dónde va Chichi?|ARGUVEV1187B98BA17|1997|313.12934|\n",
      "|SOMZWCG12A8C13C480|    I Didn't Mean To|ARD7TVE1187B99BFB1|   0|218.93179|\n",
      "|SOUPIRU12A6D4FA1E1| Der Kleine Dompfaff|ARJIE2Y1187B994AB7|   0|152.92036|\n",
      "|SOXVLOJ12AB0189215|     Amor De Cabaret|ARKRRTF1187B9984DA|   0|177.47546|\n",
      "|SOWTBJW12AC468AC6E|Broken-Down Merry...|ARQGYP71187FB44566|   0|151.84934|\n",
      "+------------------+--------------------+------------------+----+---------+\n",
      "only showing top 5 rows\n",
      "\n"
     ]
    }
   ],
   "source": [
    "songs = song_data.select('song_id',\\\n",
    "                        'title',\\\n",
    "                        'artist_id',\\\n",
    "                         'year',\\\n",
    "                         'duration')\\\n",
    "                .drop_duplicates(subset = ['song_id'])\n",
    "\n",
    "songs.show(5)\n",
    "                  \n",
    "songs.write.mode(\"overwrite\").save('./data/songs_table.parquet')"
   ]
  },
  {
   "cell_type": "code",
   "execution_count": 13,
   "metadata": {
    "editable": true
   },
   "outputs": [
    {
     "name": "stdout",
     "output_type": "stream",
     "text": [
      "+-------+----------+---------+------+-----+\n",
      "|user_id|first_name|last_name|gender|level|\n",
      "+-------+----------+---------+------+-----+\n",
      "|     51|      Maia|    Burke|     F| free|\n",
      "|      7|    Adelyn|   Jordan|     F| free|\n",
      "|     15|      Lily|     Koch|     F| paid|\n",
      "|     54|     Kaleb|     Cook|     M| free|\n",
      "|    101|    Jayden|      Fox|     M| free|\n",
      "+-------+----------+---------+------+-----+\n",
      "only showing top 5 rows\n",
      "\n"
     ]
    },
    {
     "ename": "NameError",
     "evalue": "name 's3_target_bucket' is not defined",
     "output_type": "error",
     "traceback": [
      "\u001b[0;31m---------------------------------------------------------------------------\u001b[0m",
      "\u001b[0;31mNameError\u001b[0m                                 Traceback (most recent call last)",
      "\u001b[0;32m<ipython-input-13-ba4446fa5f44>\u001b[0m in \u001b[0;36m<module>\u001b[0;34m()\u001b[0m\n\u001b[1;32m      7\u001b[0m \u001b[0musers\u001b[0m\u001b[0;34m.\u001b[0m\u001b[0mshow\u001b[0m\u001b[0;34m(\u001b[0m\u001b[0;36m5\u001b[0m\u001b[0;34m)\u001b[0m\u001b[0;34m\u001b[0m\u001b[0m\n\u001b[1;32m      8\u001b[0m \u001b[0;34m\u001b[0m\u001b[0m\n\u001b[0;32m----> 9\u001b[0;31m \u001b[0musers\u001b[0m\u001b[0;34m.\u001b[0m\u001b[0mwrite\u001b[0m\u001b[0;34m.\u001b[0m\u001b[0mmode\u001b[0m\u001b[0;34m(\u001b[0m\u001b[0;34m\"overwrite\"\u001b[0m\u001b[0;34m)\u001b[0m\u001b[0;34m.\u001b[0m\u001b[0msave\u001b[0m\u001b[0;34m(\u001b[0m\u001b[0;34mf'{s3_target_bucket}/users_table.parquet'\u001b[0m\u001b[0;34m)\u001b[0m\u001b[0;34m\u001b[0m\u001b[0m\n\u001b[0m",
      "\u001b[0;31mNameError\u001b[0m: name 's3_target_bucket' is not defined"
     ]
    }
   ],
   "source": [
    "users = log_data.select(F.col(\"userId\").alias(\"user_id\"),\\\n",
    "                       F.col(\"firstName\").alias(\"first_name\"),\n",
    "                       F.col(\"lastName\").alias(\"last_name\"),\n",
    "                       F.col(\"gender\").alias(\"gender\"),\n",
    "                       F.col(\"level\").alias(\"level\"))\\\n",
    "                    .drop_duplicates(subset = ['user_id'])\n",
    "\n",
    "users.show(5)\n",
    "\n",
    "users.write.mode(\"overwrite\").save(f'{s3_target_bucket}/users_table.parquet')"
   ]
  },
  {
   "cell_type": "code",
   "execution_count": 15,
   "metadata": {
    "editable": true
   },
   "outputs": [
    {
     "name": "stdout",
     "output_type": "stream",
     "text": [
      "               start_time user_id level             song_id  \\\n",
      "0 2018-11-21 21:56:47.796      15  paid  SOZCTXZ12AB0182364   \n",
      "\n",
      "            artist_id  session_id                            location  \\\n",
      "0  AR5KOSW1187FB35FF4         818  Chicago-Naperville-Elgin, IL-IN-WI   \n",
      "\n",
      "                                          user_agent  year  month  \n",
      "0  \"Mozilla/5.0 (X11; Linux x86_64) AppleWebKit/5...  2018     11  \n"
     ]
    }
   ],
   "source": [
    "# and lastly, the last table:\n",
    "# songplays - records in log data associated with song plays i.e. records with page NextSong\n",
    "#        songplay_id, start_time, user_id, level, song_id, artist_id, session_id, location, user_agent\n",
    "\n",
    "songplays = log_data.join(song_data, \\\n",
    "              [log_data.artist == song_data.artist_name, log_data.song == song_data.title])\\\n",
    "            .filter(F.col('page') == 'NextSong')\\\n",
    "            .select(F.col(\"ts\").alias(\"start_time\"),\\\n",
    "                    F.col(\"userId\").alias(\"user_id\"),\\\n",
    "                    \"level\",\\\n",
    "                    \"song_id\",\\\n",
    "                    \"artist_id\",\\\n",
    "                    F.col(\"sessionId\").alias(\"session_id\"),\\\n",
    "                    \"location\",\\\n",
    "                    F.col(\"userAgent\").alias(\"user_agent\"),\\\n",
    "                    F.year(\"ts\").alias(\"year\"),\\\n",
    "                    F.month(\"ts\").alias(\"month\"))\n",
    "\n",
    "print(songplays.limit(5).toPandas())\n",
    "songplays.write.mode(\"overwrite\").save('./data/songplays_table.parquet')\n",
    "\n",
    "songplays.write.mode(\"overwrite\").save('./data/songplays_table.parquet')\n"
   ]
  },
  {
   "cell_type": "markdown",
   "metadata": {
    "editable": true
   },
   "source": [
    "# Reading from s3\n",
    "\n",
    "Now that we can read and write locally, set up code to read from AWS S3 remotely"
   ]
  },
  {
   "cell_type": "code",
   "execution_count": null,
   "metadata": {
    "editable": true
   },
   "outputs": [],
   "source": [
    "s3_song_data_path = \"s3a://udacity-dend/song_data/A/A/A/*.json\"\n",
    "s3_log_data_path = \"s3a://udacity-dend/log_data/*/*/*.json\"\n",
    "\n",
    "s3_target_bucket = \"s3a://jjudacitydatalake\"\n",
    "s3 = boto3.resource('s3')"
   ]
  },
  {
   "cell_type": "code",
   "execution_count": null,
   "metadata": {
    "editable": true
   },
   "outputs": [],
   "source": [
    "full_log_data = spark.read.schema(log_data_schema).option('mode', 'DROPMALFORMED').json(f\"{s3_log_data_path}\")\n",
    "full_log_data.show(5)"
   ]
  },
  {
   "cell_type": "code",
   "execution_count": null,
   "metadata": {
    "editable": true
   },
   "outputs": [],
   "source": [
    "full_song_data = spark.read.schema(song_data_schema).option('mode', 'DROPMALFORMED').json(f\"{s3_song_data_path}\")\n",
    "full_song_data.show(5)"
   ]
  },
  {
   "cell_type": "code",
   "execution_count": null,
   "metadata": {
    "editable": true
   },
   "outputs": [],
   "source": []
  }
 ],
 "metadata": {
  "kernelspec": {
   "display_name": "Python 3",
   "language": "python",
   "name": "python3"
  },
  "language_info": {
   "codemirror_mode": {
    "name": "ipython",
    "version": 3
   },
   "file_extension": ".py",
   "mimetype": "text/x-python",
   "name": "python",
   "nbconvert_exporter": "python",
   "pygments_lexer": "ipython3",
   "version": "3.6.3"
  }
 },
 "nbformat": 4,
 "nbformat_minor": 4
}
